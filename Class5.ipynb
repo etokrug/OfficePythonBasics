{
 "cells": [
  {
   "cell_type": "markdown",
   "metadata": {},
   "source": [
    "<a id=\"toc\"></a>\n",
    "# Table of Contents\n",
    "\n",
    "## [Error Handling](#errors)\n",
    "#### Syntax: Try/Except/Finally\n",
    "## [APIs](#apis)\n",
    "#### [Dealing with Proxies](#proxies)\n",
    "#### [Status Codes](#status)\n",
    "#### [Parsing Response Data (JSON)](#json)\n",
    "#### [Using Our Census Data](#using)"
   ]
  },
  {
   "cell_type": "markdown",
   "metadata": {},
   "source": [
    "<a id=\"errors\"></a>\n",
    "## Error Handling\n",
    "[Back to Table of Contents](#toc)\n",
    "\n",
    "When writing code, there are many times that we encounter what are called **exceptions** or **errors**. These can halt the execution of your code and cause terrible headaches. However, if we use them correctly, the can be useful tools that can help the logic flow of our program.\n",
    "\n",
    "### Syntax: Try/Except/Finally\n",
    "\n",
    "We can maneuver exceptions using a logical structure in Python called a Try/Except/Finally block.\n",
    "\n",
    "For example:\n",
    "\n",
    "`try:\n",
    "    [some code happens here that generates an error]\n",
    "except:\n",
    "    [code which is activated if an error happens]\n",
    "finally:\n",
    "    [code which will run whether or not there is an error]`\n",
    "    \n",
    "Let's try it out!"
   ]
  },
  {
   "cell_type": "code",
   "execution_count": null,
   "metadata": {},
   "outputs": [],
   "source": [
    "def throw_an_error():\n",
    "    raise(ValueError(\"bad code\"))\n",
    "\n",
    "    \n",
    "throw_an_error()"
   ]
  },
  {
   "cell_type": "code",
   "execution_count": null,
   "metadata": {},
   "outputs": [],
   "source": []
  },
  {
   "cell_type": "markdown",
   "metadata": {},
   "source": [
    "<a id=\"apis\"></a>\n",
    "## APIs\n",
    "[Back to Table of Contents](#toc)\n",
    "\n",
    "An API or _Application Programming Interface_ is a tool for applications to talk to talk to each other. It's a commonly used term and has multiple meanings. For our purposes, we're talking about _web-based APIs which return data_. We use the _requests_ library to send requests to web-APIs as well as websites.\n",
    "\n",
    "<a id=\"proxies\"></a>\n",
    "### Dealing with Proxies\n",
    "\n",
    "There is an attached file for this lesson called **settings.py** - inside of it, you'll see 4 variables:\n",
    "\n",
    "- `CENSUS_KEY`\n",
    "- `USERNAME`\n",
    "- `PASS`\n",
    "- `PROXIES`\n",
    "\n",
    "The CENSUS_KEY comes from the Census website ([click this link to request one](https://api.census.gov/data/key_signup.html) - it only takes a minute).\n",
    "\n",
    "I've included USERNAME, PASS, and PROXIES in case your organization enforces an internet proxy. You may not know if it does until you encounter a \"status code\" of 407 (more on status codes below). Fill in your settings file with the Active Directory information you use for authentication on your computer (USERNAME and PASS). **Keep this file in a secure place and do not publish it to a version control system (like GitHub)**.\n",
    "\n",
    "<a id=\"status\"></a>\n",
    "### Status Codes\n",
    "\n",
    "When a _request_ is sent to a web-API a response is generated and sent back. The response comes with a bunch of data in what is called _header_ but, for our purposes, we're only worried about the **status code** of the reponse because that can tell us if we're having issues connecting or requesting data. Most people have encountered the _404 Not Found_ code while browsing the web at some point, but there are mahy codes that we can encounter. Here are a few basic ones you should know:\n",
    "\n",
    "- `200 OK` - Standard response for successful HTTP requests.\n",
    "- `400 Bad Request` - The server cannot or will not process the request due to an apparent client error.\n",
    "- `403 Forbidden` - The request was valid, but the server is refusing action.\n",
    "- `404 Not Found` - The requested resource could not be found but may be available in the future.\n",
    "- `407 Proxy Authentication Required` - The client must first authenticate itself with the proxy.\n",
    "\n",
    "[You can find more information about various codes here on Wikipedia.](https://en.wikipedia.org/wiki/List_of_HTTP_status_codes)\n",
    "\n",
    "### Parsing Response Data (JSON)\n",
    "\n",
    "Web-APIs can respond in many different data formats but the most commonly used one is **JSON** which stands for _JavaScript Object Notation_. JSON is a convenient data format because it is _human-readable_ and easy for machines to _parse_ and create as well. It relies on name/value pairs which is conveniently similar to the Python _dictionary_ datatype. You can read more about it on the [JSON.org](www.json.org/) website.\n",
    "\n",
    "Here's an example:\n",
    "\n",
    "`{\n",
    "    \"name\": \"William Brown\",\n",
    "    \"address\": {\n",
    "        \"streetAddress\": \"123 Abc Drive\",\n",
    "        \"city\": \"Cool Guy City\",\n",
    "        \"state\": \"FL\",\n",
    "        \"postalCode\": \"33133-3100\"\n",
    "    },\n",
    "    \"phoneNumbers\": [\n",
    "        {\n",
    "            \"type\": \"mobile\",\n",
    "            \"number\": \"305-555-1234\"\n",
    "        },\n",
    "        {\n",
    "            \"type\": \"office\",\n",
    "            \"number\": \"305-555-4567\"\n",
    "        }\n",
    "    ]\n",
    "}`\n",
    "\n",
    "Let's make our first request and get some Census data on different state populations. [You can learn more about the Census API here.](https://www.census.gov/data/developers/data-sets.html)"
   ]
  },
  {
   "cell_type": "code",
   "execution_count": null,
   "metadata": {},
   "outputs": [],
   "source": [
    "import requests # We use the requests library as it contains the tools we need\n",
    "from settings import PROXIES, CENSUS_KEY # We import the information we need from our settings file\n",
    "\n",
    "\n",
    "# Here is the API URL we'll use to access data from the Census Bureau\n",
    "URL = \"https://api.census.gov/data/2018/pep/population?get=GEONAME,POP&for=state:*\"\n",
    "\n",
    "\n",
    "# We use parameters to access various objects\n",
    "# First we need to make sure that the Census Bureau knows we're registered so we send our 'key'.\n",
    "# If we were interested in asking other questions, we would add other parameters\n",
    "PARAMS = {'key': CENSUS_KEY}\n",
    "\n",
    "def get_census_state_pop_data():\n",
    "    print('Sending Census state population request...')\n",
    "    r = requests.get(url=URL, proxies=PROXIES, verify=False) \n",
    "    print('Request sent. Status code: {0}'.format(r.status_code))\n",
    "    # extracting data in json format \n",
    "    data = r.json()\n",
    "    return data\n",
    "\n",
    "census_data = get_census_state_pop_data()\n",
    "census_data"
   ]
  },
  {
   "cell_type": "markdown",
   "metadata": {},
   "source": [
    "When the above code has run, we can see that we've captured a ton of information about the population of different states. However, this isn't readily useable for us so we need to further parse it out.\n",
    "\n",
    "Now that we know the format of the data (a list of lists), we can write a function to break it down into a dict we can use."
   ]
  },
  {
   "cell_type": "code",
   "execution_count": null,
   "metadata": {},
   "outputs": [],
   "source": [
    "def census_dict_from_list(census_list):\n",
    "    state_dict = dict()\n",
    "    for state_lst in census_list:\n",
    "        try:\n",
    "            state_dict[state_lst[0]] = int(state_lst[1])\n",
    "        except ValueError:\n",
    "            print(\"Error: Value {0} for key {1} is invalid.\".format(state_lst[1], state_lst[0]))\n",
    "    return state_dict\n",
    "\n",
    "# let's give it a test run\n",
    "states_dict = census_dict_from_list(get_census_state_pop_data())\n",
    "states_dict"
   ]
  },
  {
   "cell_type": "code",
   "execution_count": null,
   "metadata": {},
   "outputs": [],
   "source": [
    "import pandas as pd\n",
    "\n",
    "df_emps_in_st = pd.read_excel('EmployeesPerState.xlsx', sheet_name='EmployeesPerState')\n",
    "\n",
    "df_emps_in_st"
   ]
  },
  {
   "cell_type": "markdown",
   "metadata": {},
   "source": [
    "<a id=\"using\"></a>\n",
    "### Using our Census Data\n",
    "[Back to Table of Contents](#toc)\n",
    "\n",
    "Let's calculate two things:\n",
    "\n",
    "- How many stores we have per state (1 store per 60k people)\n",
    "- How many employees per store"
   ]
  },
  {
   "cell_type": "code",
   "execution_count": null,
   "metadata": {},
   "outputs": [],
   "source": [
    "# let's create a function we can apply to our new column\n",
    "\n",
    "def lookup_state(state):\n",
    "    return states_dict[state]\n",
    "\n",
    "df_emps_in_st[\"population\"] = df_emps_in_st[\"State\"].apply(lookup_state)\n",
    "df_emps_in_st"
   ]
  },
  {
   "cell_type": "code",
   "execution_count": null,
   "metadata": {},
   "outputs": [],
   "source": [
    "# now lets calculate the number of stores\n",
    "\n",
    "df_emps_in_st = df_emps_in_st.assign(num_stores = lambda x: x['population'] / 60000)\n",
    "df_emps_in_st = df_emps_in_st.round({'num_stores': 2})\n",
    "df_emps_in_st"
   ]
  },
  {
   "cell_type": "code",
   "execution_count": null,
   "metadata": {},
   "outputs": [],
   "source": [
    "# Calculate the number of employees per store\n",
    "df_emps_in_st = df_emps_in_st.assign(emps_per_store = lambda x: x['Employees'] / x['num_stores'])\n",
    "df_emps_in_st = df_emps_in_st.round({'emps_per_store': 2})\n",
    "df_emps_in_st"
   ]
  }
 ],
 "metadata": {
  "kernelspec": {
   "display_name": "Python 3",
   "language": "python",
   "name": "python3"
  },
  "language_info": {
   "codemirror_mode": {
    "name": "ipython",
    "version": 3
   },
   "file_extension": ".py",
   "mimetype": "text/x-python",
   "name": "python",
   "nbconvert_exporter": "python",
   "pygments_lexer": "ipython3",
   "version": "3.7.3"
  }
 },
 "nbformat": 4,
 "nbformat_minor": 2
}
